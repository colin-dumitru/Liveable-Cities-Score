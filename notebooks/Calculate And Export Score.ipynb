{
 "cells": [
  {
   "cell_type": "code",
   "execution_count": null,
   "metadata": {},
   "outputs": [],
   "source": [
    "import matplotlib.pyplot as plt\n",
    "import pandas as pd\n",
    "import json\n",
    "import warnings\n",
    "import sys\n",
    "\n",
    "sys.path.append(\"../\")\n",
    "\n",
    "from lcs.score import LCSQueryEngine\n",
    "from lcs.plot import plot_heatmap\n",
    "\n",
    "warnings.filterwarnings('ignore')\n",
    "pd.set_option('display.max_columns', None)\n",
    "\n",
    "CONFIGS = [\n",
    "    # \"../config/RO/Bucharest/Bucharest.json\",\n",
    "    # \"../config/RO/Iasi/Iasi.json\",    \n",
    "    # \"../config/RO/Cluj/Cluj-Napoca.json\",\n",
    "    # \"../config/RO/Timis/Timisoara.json\",\n",
    "    # \"../config/RO/Dolj/Craiova.json\",\n",
    "    \"../config/RO/Constanta/Constanta.json\"\n",
    "]"
   ]
  },
  {
   "cell_type": "code",
   "execution_count": null,
   "metadata": {},
   "outputs": [],
   "source": [
    "for config_path in CONFIGS:\n",
    "    print (f\"Generating for {config_path}\")\n",
    "\n",
    "    config = json.load(open(config_path, 'r'))\n",
    "    df_residential = LCSQueryEngine(config).query_features_with_lcs()\n",
    "    plot_heatmap(config, df_residential, figsize=(16,16))\n",
    "\n",
    "    plt.savefig(f\"../figures/{config['name']}.png\")"
   ]
  },
  {
   "cell_type": "code",
   "execution_count": null,
   "metadata": {},
   "outputs": [],
   "source": []
  }
 ],
 "metadata": {
  "kernelspec": {
   "display_name": "Python 3",
   "language": "python",
   "name": "python3"
  },
  "language_info": {
   "codemirror_mode": {
    "name": "ipython",
    "version": 3
   },
   "file_extension": ".py",
   "mimetype": "text/x-python",
   "name": "python",
   "nbconvert_exporter": "python",
   "pygments_lexer": "ipython3",
   "version": "3.10.8"
  },
  "orig_nbformat": 4
 },
 "nbformat": 4,
 "nbformat_minor": 2
}
