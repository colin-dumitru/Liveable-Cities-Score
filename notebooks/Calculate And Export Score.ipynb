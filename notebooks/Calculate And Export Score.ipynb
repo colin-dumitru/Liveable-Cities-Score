{
 "cells": [
  {
   "cell_type": "code",
   "execution_count": 4,
   "metadata": {},
   "outputs": [],
   "source": [
    "import matplotlib.pyplot as plt\n",
    "import pandas as pd\n",
    "import json\n",
    "import warnings\n",
    "import sys\n",
    "\n",
    "sys.path.append(\"../\")\n",
    "\n",
    "from lcs.score import LCSQueryEngine\n",
    "from lcs.plot import plot_heatmap\n",
    "\n",
    "warnings.filterwarnings('ignore')\n",
    "pd.set_option('display.max_columns', None)\n",
    "\n",
    "CONFIGS = [\n",
    "    # \"../config/RO/Bucharest/Bucharest.json\",\n",
    "    \"../config/RO/Iasi/Iasi.json\",    \n",
    "    \"../config/RO/Cluj/Cluj-Napoca.json\",\n",
    "]"
   ]
  },
  {
   "cell_type": "code",
   "execution_count": 5,
   "metadata": {},
   "outputs": [
    {
     "name": "stdout",
     "output_type": "stream",
     "text": [
      "Generating for ../config/RO/Bucharest/Bucharest.json\n",
      "  -> Querying residential buildings...\n",
      "  -> Querying graphs...\n",
      "  -> Calculating graph-based scores...\n",
      "  -> Calculating scores for public_transport amenity...\n",
      "  -> Calculating scores for bike_rental amenity...\n",
      "  -> Calculating scores for grocer amenity...\n",
      "  -> Calculating scores for pharmacy amenity...\n",
      "  -> Calculating scores for bank amenity...\n",
      "  -> Calculating scores for playground amenity...\n",
      "  -> Calculating scores for general_store amenity...\n",
      "  -> Calculating scores for clothes_store amenity...\n",
      "  -> Calculating scores for kindergarten amenity...\n",
      "  -> Calculating scores for school amenity...\n",
      "  -> Calculating scores for restaurant amenity...\n",
      "  -> Calculating scores for cafe amenity...\n",
      "  -> Calculating scores for cleaner amenity...\n",
      "  -> Calculating scores for beauty amenity...\n",
      "  -> Calculating scores for outdoor_sports amenity...\n",
      "  -> Calculating scores for indoor_sports amenity...\n",
      "  -> Calculating scores for entertainment amenity...\n",
      "  -> Calculating scores for hospital amenity...\n",
      "  -> Calculating scores for bookstore amenity...\n",
      "  -> Calculating scores for museum amenity...\n",
      "  -> Calculating scores for art_gallery amenity...\n",
      "  -> Calculating scores for park amenity...\n",
      "Generating for ../config/RO/Iasi/Iasi.json\n",
      "  -> Querying residential buildings...\n"
     ]
    },
    {
     "name": "stderr",
     "output_type": "stream",
     "text": [
      "C:\\Users\\Catalin\\AppData\\Local\\Temp\\ipykernel_5576\\1839392261.py:4: ResourceWarning: unclosed file <_io.TextIOWrapper name='../config/RO/Iasi/Iasi.json' mode='r' encoding='cp1252'>\n",
      "  config = json.load(open(config_path, 'r'))\n",
      "ResourceWarning: Enable tracemalloc to get the object allocation traceback\n"
     ]
    }
   ],
   "source": [
    "for config_path in CONFIGS:\n",
    "    print (f\"Generating for {config_path}\")\n",
    "\n",
    "    config = json.load(open(config_path, 'r'))\n",
    "    df_residential = LCSQueryEngine(config).query_features_with_lcs()\n",
    "    plot_heatmap(config, df_residential, figsize=(16,16))\n",
    "\n",
    "    plt.savefig(f\"../figures/{config['name']}.png\")"
   ]
  },
  {
   "cell_type": "code",
   "execution_count": null,
   "metadata": {},
   "outputs": [],
   "source": []
  }
 ],
 "metadata": {
  "kernelspec": {
   "display_name": "Python 3",
   "language": "python",
   "name": "python3"
  },
  "language_info": {
   "codemirror_mode": {
    "name": "ipython",
    "version": 3
   },
   "file_extension": ".py",
   "mimetype": "text/x-python",
   "name": "python",
   "nbconvert_exporter": "python",
   "pygments_lexer": "ipython3",
   "version": "3.10.11"
  },
  "orig_nbformat": 4
 },
 "nbformat": 4,
 "nbformat_minor": 2
}
